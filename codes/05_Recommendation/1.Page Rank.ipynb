{
 "cells": [
  {
   "attachments": {},
   "cell_type": "markdown",
   "metadata": {},
   "source": [
    "# Lecture : Recommendation on Graphs\n",
    "\n",
    "## Lab 01 : PageRank -- Solution\n",
    "\n",
    "### Xavier Bresson, Nian Liu    \n"
   ]
  },
  {
   "cell_type": "code",
   "metadata": {
    "ExecuteTime": {
     "end_time": "2024-10-01T09:16:34.023107Z",
     "start_time": "2024-10-01T09:16:34.008562Z"
    }
   },
   "source": [
    "# For Google Colaboratory\n",
    "import sys, os\n",
    "if 'google.colab' in sys.modules:\n",
    "    # mount google drive\n",
    "    from google.colab import drive\n",
    "    drive.mount('/content/gdrive')\n",
    "    path_to_file = '/content/gdrive/My Drive/CS5284_2024_codes/codes/05_Recommendation'\n",
    "    print(path_to_file)\n",
    "    # change current path to the folder containing \"path_to_file\"\n",
    "    os.chdir(path_to_file)\n",
    "    !pwd\n",
    "    "
   ],
   "outputs": [],
   "execution_count": 1
  },
  {
   "cell_type": "code",
   "metadata": {
    "ExecuteTime": {
     "end_time": "2024-10-01T09:16:36.081272Z",
     "start_time": "2024-10-01T09:16:34.786307Z"
    }
   },
   "source": [
    "# Load libraries\n",
    "import numpy as np\n",
    "import scipy.io\n",
    "%matplotlib inline\n",
    "#%matplotlib notebook \n",
    "from matplotlib import pyplot\n",
    "import matplotlib.pyplot as plt\n",
    "plt.rcParams.update({'figure.max_open_warning': 0})\n",
    "import time\n",
    "import sys; sys.path.insert(0, 'lib/')\n",
    "import scipy.sparse.linalg\n",
    "import warnings; warnings.filterwarnings(\"ignore\")\n"
   ],
   "outputs": [],
   "execution_count": 2
  },
  {
   "cell_type": "markdown",
   "metadata": {},
   "source": [
    "# Synthetic small graph"
   ]
  },
  {
   "cell_type": "code",
   "metadata": {
    "ExecuteTime": {
     "end_time": "2024-10-01T09:16:37.026096Z",
     "start_time": "2024-10-01T09:16:36.725321Z"
    }
   },
   "source": [
    "# Data matrix \n",
    "mat = scipy.io.loadmat('datasets/pagerank_synthetic.mat')\n",
    "W = mat['W']\n",
    "W = scipy.sparse.csr_matrix(W)\n",
    "Wref = W\n",
    "X = mat['X'] #(x,y) coordinates (11,2)\n",
    "n = X.shape[0]\n",
    "d = X.shape[1]\n",
    "E = mat['E']\n",
    "XE = mat['X2']\n",
    "print('num_nodes:',n)\n"
   ],
   "outputs": [
    {
     "name": "stdout",
     "output_type": "stream",
     "text": [
      "num_nodes: 11\n"
     ]
    }
   ],
   "execution_count": 3
  },
  {
   "cell_type": "code",
   "metadata": {
    "ExecuteTime": {
     "end_time": "2024-10-01T09:16:39.457047Z",
     "start_time": "2024-10-01T09:16:39.219098Z"
    }
   },
   "source": [
    "plt.figure(1)\n",
    "size_vertex_plot = 100\n",
    "plt.scatter(X[:,0], X[:,1], s=size_vertex_plot*np.ones(n))\n",
    "plt.quiver(XE[:,0], XE[:,1], E[:,0], E[:,1], scale=1., units='xy') \n",
    "plt.title('Visualization of the artificial WWW')\n",
    "plt.axis('equal')\n",
    "plt.axis('off') \n",
    "plt.show()"
   ],
   "outputs": [
    {
     "data": {
      "text/plain": [
       "<Figure size 640x480 with 1 Axes>"
      ],
      "image/png": "[encoded data removed]"
     },
     "metadata": {},
     "output_type": "display_data"
    }
   ],
   "execution_count": 4
  },
  {
   "cell_type": "markdown",
   "metadata": {},
   "source": [
    "### Question 1: Implementing PageRank using the Spectral Approach\n",
    "\n",
    "Refer to Slide 17 from Lecture 5.\n",
    "\n",
    "### Step 1: Construct the Degree Matrix D and its Inverse D$^{-1}$ from the Adjacency Matrix W\n",
    "\n",
    "Account for cases where a node has zero degree.\n",
    "\n",
    "Hint: You may find the following functions helpful: `numpy.sum()`, `numpy.where()`, and `numpy.diag()`.\n"
   ]
  },
  {
   "cell_type": "code",
   "metadata": {
    "jupyter": {
     "is_executing": true
    },
    "ExecuteTime": {
     "start_time": "2024-10-01T09:17:36.323993Z"
    }
   },
   "source": [
    "# Solve eigenproblem\n",
    "\n",
    "# vectors of 1's\n",
    "e = np.ones([n,1])/n \n",
    "one = np.ones([n,1])\n",
    "\n",
    "############################################################################\n",
    "# Your code starts\n",
    "# Construct degree matrix D and its inverse invD with W (which is of dimension 11,11)\n",
    "############################################################################\n",
    "D = np.array(W.sum(axis=1),dtype='float32').squeeze() #without squeeze it was (11,1) with squeeze it becomes (11,) -> taking the sum along all neighbours j for a node row i\n",
    "a_idx = np.zeros([n],dtype='int32')\n",
    "a_idx[np.where(D<1./2)] = 1 #D now has the degree(out/in) for each node , so the places where there are no nodes (<0.5) we will still put 1 to make it irreducible maybe?\n",
    "a = (1.0* a_idx)[:,None] # a now is of shape (11,1) and has 1 only in the place where there is no edge\n",
    "invD = 1./(D+1e-10) #because D is not a matrix , no sense to take matrix inverse perhaps, just do normal inverse -> shape (11,)\n",
    "invD[a_idx==1] = 0 # in that place where there were no edges/neighbours we will set it to 0 even its inverse also\n",
    "invD = np.diag(invD)\n",
    "############################################################################\n",
    "# Your code ends\n",
    "############################################################################\n"
   ],
   "outputs": [],
   "execution_count": null
  },
  {
   "cell_type": "markdown",
   "metadata": {},
   "source": [
    "### Step 2: Transform the Adjacency Matrix W to a Stochastic and Irreducible Matrix\n",
    "\n",
    "Refer to Slide 15 from Lecture 5.\n",
    "\n",
    "Hint: You may find the following functions useful: `scipy.sparse.csr_matrix.todense()`, `numpy.dot()`, and `.T`.\n",
    "    "
   ]
  },
  {
   "cell_type": "code",
   "metadata": {},
   "source": [
    "############################################################################\n",
    "# Your code starts\n",
    "# Assume a balance coefficient alpha=0.85\n",
    "############################################################################\n",
    "W = Wref.todense()\n",
    "P = invD.dot(W).T\n",
    "alpha = 0.85\n",
    "P_hat = alpha* P +  alpha* e.dot(a.T) + (1.0-alpha)* e.dot(one.T) #TODO.note e -> 1/n and the a is used again to indicate the places where there is no edge, because in invD we had made that disconnected node as 0 so we still need to incorporate it somehow\n",
    "############################################################################\n",
    "# Your code ends\n",
    "############################################################################\n"
   ],
   "outputs": [],
   "execution_count": null
  },
  {
   "cell_type": "markdown",
   "metadata": {},
   "source": [
    "### Step 3: Perform Eigenvalue Decomposition (EVD) on the stochastic and irreducible matrix $\\hat{P}$ to obtain the PageRank solution\n",
    "\n",
    "Hint: Consider using `scipy.sparse.csr_matrix()` to convert the NumPy matrix to a sparse matrix, and `scipy.sparse.linalg.eigs()` to compute the eigenvalues and eigenvectors.\n"
   ]
  },
  {
   "cell_type": "code",
   "metadata": {},
   "source": [
    "############################################################################\n",
    "# Your code starts\n",
    "############################################################################\n",
    "start = time.time()\n",
    "P_hat = scipy.sparse.csr_matrix(P_hat)\n",
    "lamb, U = scipy.sparse.linalg.eigs(P_hat, k=1, which='LM') \n",
    "x_pagerank = np.abs(U[:,0])/ np.sum(np.abs(U[:,0])) #TODO.node, abs here because U is complex so we are taking only the real part and then normalizing it\n",
    "############################################################################\n",
    "# Your code ends\n",
    "############################################################################\n",
    "\n",
    "# Computational time\n",
    "print('Computational time for PageRank solution with EIGEN Method (sec):',time.time() - start)\n"
   ],
   "outputs": [],
   "execution_count": null
  },
  {
   "cell_type": "code",
   "metadata": {},
   "source": [
    "plt.figure(2)\n",
    "size_vertex_plot = 1e3*6\n",
    "plt.scatter(X[:,0], X[:,1], s=size_vertex_plot*x_pagerank) #TODO.node each node is scaled by the page rank value\n",
    "plt.quiver(XE[:,0], XE[:,1], E[:,0], E[:,1], scale=1., units='xy') #TODO.note XE is edges\n",
    "plt.title('PageRank solution with EIGEN Method.')\n",
    "plt.axis('equal')\n",
    "plt.axis('off') \n",
    "plt.show()"
   ],
   "outputs": [],
   "execution_count": null
  },
  {
   "cell_type": "code",
   "metadata": {},
   "source": [
    "# PageRank values\n",
    "x = x_pagerank\n",
    "val = np.sort(x)[::-1] \n",
    "idx = np.argsort(x)[::-1]\n",
    "index = np.array(range(1,1+n))\n",
    "in_degree = np.array(W.sum(axis=0)).squeeze(axis=0)\n",
    "out_degree =  np.array(W.sum(axis=1)).squeeze(axis=1)\n",
    "index = index[idx]\n",
    "in_degree = in_degree[idx]\n",
    "out_degree = out_degree[idx]\n",
    "print('\\n  ''Node'' | ''PageRank'' | ''In-degree'' | ''Out-degree'' ')\n",
    "for i in range(n):\n",
    "    print('   ',index[i], '  ', round(val[i],3) ,'      ', in_degree[i],'      ', out_degree[i], end='\\n')"
   ],
   "outputs": [],
   "execution_count": null
  },
  {
   "cell_type": "markdown",
   "metadata": {},
   "source": [
    "### Question 2: Implementing PageRank Using the Power Method\n",
    "\n",
    "Refer to Slide 19 from Lecture 5.\n"
   ]
  },
  {
   "cell_type": "code",
   "metadata": {},
   "source": [
    "# Power Method\n",
    "\n",
    "# Initialization\n",
    "x = e\n",
    "diffx = 1e10\n",
    "k = 0\n",
    "\n",
    "# Iterative scheme\n",
    "start = time.time()\n",
    "alpha = 0.85\n",
    "while (k<1000) & (diffx>1e-6):\n",
    "    \n",
    "    # Update iteration\n",
    "    k += 1\n",
    "\n",
    "    # Update x\n",
    "    xold = x\n",
    "    \n",
    "    ############################################################################\n",
    "    # Your code starts\n",
    "    ############################################################################\n",
    "    x = alpha* P.dot(x) + e.dot( alpha* a.T.dot(x) + (1.0-alpha) )\n",
    "    ############################################################################\n",
    "    # Your code ends\n",
    "    ############################################################################\n",
    "    \n",
    "    # Stopping condition\n",
    "    diffx = np.linalg.norm(x-xold,1)\n",
    "    \n",
    "x_pagerank_PM = np.array(x).squeeze(axis=1)\n",
    "\n",
    "# Computational time\n",
    "print('Computational time for PageRank solution with POWER Method (sec):',time.time() - start)\n",
    "\n",
    "plt.figure(3)\n",
    "size_vertex_plot = 1e3*6\n",
    "plt.scatter(X[:,0], X[:,1], s=size_vertex_plot*x_pagerank)\n",
    "plt.quiver(XE[:,0], XE[:,1], E[:,0], E[:,1], scale=1., units='xy') \n",
    "plt.title('PageRank solution with POWER Method.')\n",
    "plt.axis('equal')\n",
    "plt.axis('off') \n",
    "plt.show()"
   ],
   "outputs": [],
   "execution_count": null
  },
  {
   "cell_type": "markdown",
   "metadata": {},
   "source": [
    "# Real-world dataset CALIFORNIA"
   ]
  },
  {
   "cell_type": "code",
   "metadata": {},
   "source": [
    "###########################\n",
    "# California graph\n",
    "#   http://vlado.fmf.uni-lj.si/pub/networks/data/mix/mixed.htm\n",
    "#   This graph was constructed by expanding a 200-page response set \n",
    "#   to a search engine query 'California'.\n",
    "###########################\n",
    "\n",
    "network = np.loadtxt('datasets/california.dat')\n",
    "row = network[:,0]-1\n",
    "col = network[:,1]-1\n",
    "n = int(np.max(network))+1 # nb of vertices\n",
    "ne = len(row)\n",
    "print('nb of nodes=',n)\n",
    "print('nb of edges=',ne)\n",
    "\n",
    "# Create Adjacency matrix W\n",
    "data = np.ones([ne])\n",
    "W = scipy.sparse.csr_matrix((data, (row, col)), shape=(n, n))\n",
    "Wref = W\n",
    "print(W.shape)\n",
    "\n",
    "# Plot adjacency matrix\n",
    "plt.figure(4)\n",
    "plt.spy(W,precision=0.01, markersize=1)\n",
    "plt.show()"
   ],
   "outputs": [],
   "execution_count": null
  },
  {
   "cell_type": "code",
   "metadata": {},
   "source": [
    "# Solve eigenproblem\n",
    "\n",
    "# vector of 1's\n",
    "e = np.ones([n,1])/n \n",
    "one = np.ones([n,1])\n",
    "\n",
    "# Dumpling vector\n",
    "D = np.array(W.sum(axis=1),dtype='float32').squeeze()\n",
    "a_idx = np.zeros([n],dtype='int32')\n",
    "a_idx[np.where(D<1./2)] = 1\n",
    "a = (1.0* a_idx)[:,None]\n",
    "\n",
    "# Compute P = W D^{-1}\n",
    "invD = 1./(D+1e-10)\n",
    "invD[a_idx==1] = 0\n",
    "invD = np.diag(invD)\n",
    "W = Wref.todense()\n",
    "P = invD.dot(W).T\n",
    "\n",
    "# EVD\n",
    "alpha = 0.85\n",
    "start = time.time()\n",
    "Phat = alpha* P +  alpha* e.dot(a.T) + (1.0-alpha)* e.dot(one.T)\n",
    "Phat = scipy.sparse.csr_matrix(Phat)\n",
    "lamb, U = scipy.sparse.linalg.eigs(Phat, k=1, which='LM') \n",
    "x_pagerank = np.abs(U[:,0])/ np.sum(np.abs(U[:,0]))\n",
    "\n",
    "# Computational time\n",
    "print('Computational time for PageRank solution with EIGEN Method (sec):',time.time() - start)"
   ],
   "outputs": [],
   "execution_count": null
  },
  {
   "cell_type": "code",
   "metadata": {},
   "source": [
    "# Power Method\n",
    "\n",
    "# Initialization\n",
    "x = e\n",
    "diffx = 1e10\n",
    "k = 0\n",
    "\n",
    "# Iterative scheme\n",
    "start = time.time()\n",
    "alpha = 0.85\n",
    "while (k<1000) & (diffx>1e-6):\n",
    "    \n",
    "    # Update iteration\n",
    "    k += 1\n",
    "\n",
    "    # Update x\n",
    "    xold = x\n",
    "    x = alpha* P.dot(x) + e.dot( alpha* a.T.dot(x) + (1.0-alpha) )\n",
    "    \n",
    "    # Stopping condition\n",
    "    diffx = np.linalg.norm(x-xold,1)\n",
    "    \n",
    "x_pagerank_PM = np.array(x).squeeze(axis=1) # x is (11,1) so squeeze will make it (11,)\n",
    "\n",
    "# Computational time\n",
    "print('Computational time for PageRank solution with POWER Method (sec):',time.time() - start)"
   ],
   "outputs": [],
   "execution_count": null
  },
  {
   "cell_type": "markdown",
   "metadata": {},
   "source": [
    "### Question 3: Compare the Time Complexity of the Spectral Approach $O(N^2)$ and the Power Method $O(E)$\n",
    "\n",
    "For 9,665 nodes, the spectral approach takes 13.3 seconds, while the power method takes just 1.7 seconds — an order of magnitude faster.\n"
   ]
  },
  {
   "cell_type": "code",
   "metadata": {},
   "source": [],
   "outputs": [],
   "execution_count": null
  },
  {
   "cell_type": "code",
   "metadata": {},
   "source": [],
   "outputs": [],
   "execution_count": null
  }
 ],
 "metadata": {
  "kernelspec": {
   "display_name": "Python 3 (ipykernel)",
   "language": "python",
   "name": "python3"
  },
  "language_info": {
   "codemirror_mode": {
    "name": "ipython",
    "version": 3
   },
   "file_extension": ".py",
   "mimetype": "text/x-python",
   "name": "python",
   "nbconvert_exporter": "python",
   "pygments_lexer": "ipython3",
   "version": "3.8.19"
  }
 },
 "nbformat": 4,
 "nbformat_minor": 4
}
